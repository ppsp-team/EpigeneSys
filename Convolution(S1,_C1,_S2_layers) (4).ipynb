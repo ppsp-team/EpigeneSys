{
  "nbformat": 4,
  "nbformat_minor": 0,
  "metadata": {
    "kernelspec": {
      "name": "python3",
      "display_name": "Python 3"
    },
    "language_info": {
      "codemirror_mode": {
        "name": "ipython",
        "version": 3
      },
      "file_extension": ".py",
      "mimetype": "text/x-python",
      "name": "python",
      "nbconvert_exporter": "python",
      "pygments_lexer": "ipython3",
      "version": "3.7.3"
    },
    "colab": {
      "name": "Convolution(S1, C1, S2 layers).ipynb",
      "provenance": [],
      "collapsed_sections": [],
      "machine_shape": "hm"
    },
    "accelerator": "GPU"
  },
  "cells": [
    {
      "cell_type": "code",
      "metadata": {
        "id": "2yAMmLcYMg_Q",
        "colab": {
          "base_uri": "https://localhost:8080/"
        },
        "outputId": "25cde177-eb6a-483b-c94c-a06d84fc74b7"
      },
      "source": [
        "!pip install brian2\n",
        "from skimage.util import img_as_float\n",
        "from skimage.io import imread\n",
        "import numpy as np\n",
        "from skimage.transform import resize\n",
        "from skimage.transform import rescale\n",
        "from copy import copy\n",
        "import pickle\n",
        "import matplotlib\n",
        "import os\n",
        "from skimage.color import rgb2gray\n",
        "from skimage.color import hsv2rgb\n",
        "import random\n",
        "import matplotlib.pyplot as plt\n",
        "from brian2 import *\n",
        "from IPython.display import clear_output\n",
        "%matplotlib inline\n",
        "\n",
        "imgDef = 128\n",
        "receptiveFieldSize=int(imgDef/18) #initial 16\n",
        "print(receptiveFieldSize-2)\n",
        "C1num = len(range(0,imgDef-receptiveFieldSize,receptiveFieldSize-2))\n",
        "print(C1num)\n",
        "print(range(0,imgDef-receptiveFieldSize,receptiveFieldSize-2))"
      ],
      "execution_count": null,
      "outputs": [
        {
          "output_type": "stream",
          "name": "stdout",
          "text": [
            "Requirement already satisfied: brian2 in /usr/local/lib/python3.7/dist-packages (2.4.2)\n",
            "Requirement already satisfied: sympy>=1.2 in /usr/local/lib/python3.7/dist-packages (from brian2) (1.7.1)\n",
            "Requirement already satisfied: jinja2>=2.7 in /usr/local/lib/python3.7/dist-packages (from brian2) (2.11.3)\n",
            "Requirement already satisfied: setuptools>=24.2 in /usr/local/lib/python3.7/dist-packages (from brian2) (57.4.0)\n",
            "Requirement already satisfied: numpy>=1.15 in /usr/local/lib/python3.7/dist-packages (from brian2) (1.19.5)\n",
            "Requirement already satisfied: pyparsing in /usr/local/lib/python3.7/dist-packages (from brian2) (2.4.7)\n",
            "Requirement already satisfied: cython>=0.29 in /usr/local/lib/python3.7/dist-packages (from brian2) (0.29.24)\n",
            "Requirement already satisfied: MarkupSafe>=0.23 in /usr/local/lib/python3.7/dist-packages (from jinja2>=2.7->brian2) (2.0.1)\n",
            "Requirement already satisfied: mpmath>=0.19 in /usr/local/lib/python3.7/dist-packages (from sympy>=1.2->brian2) (1.2.1)\n",
            "5\n",
            "25\n",
            "range(0, 121, 5)\n"
          ]
        }
      ]
    },
    {
      "cell_type": "code",
      "metadata": {
        "id": "aTLrWOfaMg_a"
      },
      "source": [
        "from scipy import ndimage as nd\n",
        "\n",
        "def power_conv(image, kernel):\n",
        "    # Normalize images for better comparison.\n",
        "    image = (image - image.mean()) / image.std()\n",
        "    return np.sqrt(nd.convolve(image, np.real(kernel), mode='nearest')**2 +\n",
        "                   nd.convolve(image, np.imag(kernel), mode='nearest')**2)"
      ],
      "execution_count": null,
      "outputs": []
    },
    {
      "cell_type": "code",
      "metadata": {
        "id": "UrRiJSXVMg_d",
        "colab": {
          "base_uri": "https://localhost:8080/",
          "height": 282
        },
        "outputId": "60b84db8-3e2f-4656-94ac-b758677af5c4"
      },
      "source": [
        "# Local inhibition\n",
        "\n",
        "def makeGaussian(size, fwhm = 3, center=None):\n",
        "    \"\"\" Make a square gaussian kernel.\n",
        "\n",
        "    size is the length of a side of the square\n",
        "    fwhm is full-width-half-maximum, which\n",
        "    can be thought of as an effective radius.\n",
        "    \"\"\"\n",
        "\n",
        "    x = np.arange(0, size, 1, dtype=float)\n",
        "    y = x[:,np.newaxis]\n",
        "\n",
        "    if center is None:\n",
        "        x0 = y0 = size // 2\n",
        "    else:\n",
        "        x0 = center[0]\n",
        "        y0 = center[1]\n",
        "\n",
        "    return np.exp(-4*np.log(2) * ((x-x0)**2 + (y-y0)**2) / fwhm**2)\n",
        "\n",
        "kernelInhibition=makeGaussian(11, fwhm = 5)*1.15\n",
        "kernelInhibition[5,5]=0\n",
        "\n",
        "plt.figure()\n",
        "plt.imshow(kernelInhibition)"
      ],
      "execution_count": null,
      "outputs": [
        {
          "output_type": "execute_result",
          "data": {
            "text/plain": [
              "<matplotlib.image.AxesImage at 0x7fb42f3e2f50>"
            ]
          },
          "metadata": {},
          "execution_count": 4
        },
        {
          "output_type": "display_data",
          "data": {
            "image/png": "[encoded data removed]",
            "text/plain": [
              "<Figure size 432x288 with 1 Axes>"
            ]
          },
          "metadata": {
            "needs_background": "light"
          }
        }
      ]
    },
    {
      "cell_type": "code",
      "metadata": {
        "id": "ISWl30i9Mg_h",
        "colab": {
          "base_uri": "https://localhost:8080/",
          "height": 264
        },
        "outputId": "36658d60-3949-4399-e9e7-7c11ec9e5e5c"
      },
      "source": [
        "from skimage.filters import gabor_kernel\n",
        "#sigma_values = [4, 6, 8]\n",
        "sigma_values = [1] #3  last try 1.5\n",
        "frequency_values = [0.1] #0.2 last try 0..15\n",
        "#frequency_values = [0.02, 0.05, 0.1]\n",
        "\n",
        "kernels = []\n",
        "for theta in range(6):\n",
        "    theta = (theta / 6. + 1/8) * np.pi\n",
        "    for sigma in sigma_values:\n",
        "        for frequency in frequency_values:\n",
        "            kernel = gabor_kernel(frequency, theta=theta,\n",
        "                                          sigma_x=sigma, sigma_y=sigma)\n",
        "            #print(kernel.shape)\n",
        "            kernels.append(kernel)\n",
        "\n",
        "cols = 6\n",
        "rows = 1\n",
        "fig, axes = plt.subplots(nrows=rows, ncols=cols, figsize=(24, 4))\n",
        "fig.suptitle('Gabor filters', fontsize=24)\n",
        "n=0\n",
        "\n",
        "for y in range(0,cols):\n",
        "        ax = axes[y]\n",
        "        ax.imshow(np.real(kernels[n]), interpolation='none')\n",
        "        n=n+1\n",
        "        ax.axis('off')"
      ],
      "execution_count": null,
      "outputs": [
        {
          "output_type": "display_data",
          "data": {
            "image/png": "[encoded data removed]",
            "text/plain": [
              "<Figure size 1728x288 with 6 Axes>"
            ]
          },
          "metadata": {
            "needs_background": "light"
          }
        }
      ]
    },
    {
      "cell_type": "code",
      "metadata": {
        "scrolled": true,
        "id": "qCkDNgepMg_l",
        "colab": {
          "base_uri": "https://localhost:8080/"
        },
        "outputId": "24f7c2dd-1bfa-4994-8742-58f9e69b3f33"
      },
      "source": [
        "## Dataset Upload ##\n",
        "from keras.datasets import mnist\n",
        "\n",
        "(x_train, y_train), (x_test, y_test) = mnist.load_data()\n",
        "\n",
        "specific_nums = []\n",
        "for num in range(10):\n",
        "  specific_nums.append(x_train[y_train == num])\n",
        "objects = []\n",
        "\n",
        "digits = 2\n",
        "num_nums_specific = int((4000 + digits - 1) / digits)\n",
        "for num in range(digits): #num of objects used in the input\n",
        "    for numnum in range(num_nums_specific):\n",
        "      objects.append(rescale(specific_nums[num][numnum], 128/28, multichannel=False))\n",
        "\n",
        "print('Dataset contains {} pictures of {} digits'.format(len(objects), digits))"
      ],
      "execution_count": null,
      "outputs": [
        {
          "output_type": "stream",
          "name": "stdout",
          "text": [
            "Downloading data from https://storage.googleapis.com/tensorflow/tf-keras-datasets/mnist.npz\n",
            "11493376/11490434 [==============================] - 0s 0us/step\n",
            "11501568/11490434 [==============================] - 0s 0us/step\n",
            "Dataset contains 4000 pictures of 2 digits\n"
          ]
        }
      ]
    },
    {
      "cell_type": "code",
      "metadata": {
        "id": "qX4nohyeMg_q",
        "colab": {
          "base_uri": "https://localhost:8080/"
        },
        "outputId": "0137a051-1d80-49d7-cea8-2950c4a4ca11"
      },
      "source": [
        "## S1 and C1 Layers ##\n",
        "import progressbar\n",
        "\n",
        "num_obj = 3501\n",
        "\n",
        "single = False\n",
        "\n",
        "#for cnt,img in enumerate([objects[num_obj]]):\n",
        "for cnt in progressbar.progressbar(range(len(objects))):\n",
        "    #print('Current file processing: ', cnt)\n",
        "    if single:\n",
        "      cnt = num_obj\n",
        "    img = objects[cnt]\n",
        "    if single:\n",
        "      figG, axesG = plt.subplots(nrows=1, ncols=6, figsize=(24, 4))\n",
        "      figG.suptitle('Gabor convolutions at different angles (S1 layer)', fontsize=24)\n",
        "    spikes=np.zeros((imgDef,imgDef,6,len(sigma_values),len(frequency_values)))\n",
        "    n=0\n",
        "    for theta in range(6):\n",
        "        for s,sigma in enumerate(sigma_values):\n",
        "            for f,frequency in enumerate(frequency_values):\n",
        "                spikes[:,:,theta,s,f]=resize(power_conv(img,kernels[n]), (imgDef, imgDef)) #convolutions for all thetas, sigmas, f\n",
        "                if single:\n",
        "                  ax = axesG[n]\n",
        "                  ax.imshow(spikes[:,:,theta,s,f], interpolation='none')\n",
        "                  ax.axis('off')\n",
        "                n+=1\n",
        "    \n",
        "    #S1valmax = np.max(spikes)\n",
        "    #print()\n",
        "    #print(S1valmax)\n",
        "    #print()\n",
        "\n",
        "    S1ori=np.argmax(spikes, axis=2) #number of orientation propagated (C1xC1xsxf)\n",
        "    S1val=np.max(spikes, axis=2) #value at this orientation\n",
        "    S1ori[S1val < 0.5 * np.max(S1val)] = -1 #EDIT to cancel out cells where actually nothing but they still got some orientation (3e-1)\n",
        "    #print(S1val.shape)\n",
        "    C1ori=np.zeros([C1num,C1num,len(sigma_values),len(frequency_values)])\n",
        "    C1lat=np.zeros([C1num,C1num,len(sigma_values),len(frequency_values)])\n",
        "    if single:\n",
        "      fig1, axes1 = plt.subplots(nrows=len(frequency_values), ncols=len(sigma_values), figsize=(5, 3))\n",
        "      fig1.suptitle('C1 Layer - Orientation #'+str(cnt), fontsize=12);n=0\n",
        "      fig2, axes2 = plt.subplots(nrows=len(frequency_values), ncols=len(sigma_values), figsize=(5, 3))\n",
        "      fig2.suptitle('C1 Layer - Latency before lateral inhibition#'+str(cnt), fontsize=12);n=0\n",
        "      fig3, axes3 = plt.subplots(nrows=len(frequency_values), ncols=len(sigma_values), figsize=(5, 3))\n",
        "      fig3.suptitle('C1 Layer - Latency after lateral inhibition#'+str(cnt), fontsize=12);n=0\n",
        "    for s,sigma in enumerate(sigma_values):\n",
        "        for f,frequency in enumerate(frequency_values):\n",
        "            for x,px in enumerate(range(0,imgDef-receptiveFieldSize,receptiveFieldSize-2)):\n",
        "                for y,py in enumerate(range(0,imgDef-receptiveFieldSize,receptiveFieldSize-2)):\n",
        "                    fstSpX,fstSpY=np.unravel_index(np.argmax(S1val[px:(px+receptiveFieldSize),py:(py+receptiveFieldSize),s,f]),(receptiveFieldSize,receptiveFieldSize))\n",
        "                    C1ori[x,y,s,f]=S1ori[px+fstSpX,py+fstSpY,s,f]\n",
        "                    v=S1val[px+fstSpX,py+fstSpY,s,f]\n",
        "                    #print(1/v)\n",
        "                    if v==0:\n",
        "                        C1lat[x,y,s,f]=np.nan\n",
        "                        C1ori[x,y,s,f]=np.nan\n",
        "                    else:\n",
        "                        C1lat[x,y,s,f]=1/v\n",
        "            if single:\n",
        "              ax1 = axes1#[f][s]\n",
        "              im1=ax1.imshow(C1ori[:,:,s,f])#, vmin=0, vmax=6,interpolation='none')\n",
        "              ax1.axis('off');\n",
        "              ax2 = axes2#[f][s]\n",
        "              im2=ax2.imshow(C1lat[:,:,s,f], vmin=0,interpolation='none')\n",
        "              ax2.axis('off');n+=1\n",
        "    if single:\n",
        "      fig1.subplots_adjust(right=0.8)\n",
        "      cbar_ax = fig1.add_axes([0.85, 0.15, 0.05, 0.7])\n",
        "      fig1.colorbar(im1, cax=cbar_ax)\n",
        "      fig2.subplots_adjust(right=0.8)\n",
        "      cbar_ax = fig2.add_axes([0.85, 0.15, 0.05, 0.7])\n",
        "      fig2.colorbar(im2, cax=cbar_ax)\n",
        "    \n",
        "    flag_inhib = False\n",
        "    \n",
        "    #print('Total number of neurons needed: '+str(np.prod(C1ori.shape)*6))\n",
        "    #print('Size of C1 layer: '+str(C1ori.reshape((C1num, C1num, len(sigma_values)*len(frequency_values))).shape))\n",
        "    #print('Image reduction by a 1/'+str((imgDef**2)/(C1num**2))+' ratio.')\n",
        "    \n",
        "    for s,sigma in enumerate(sigma_values):\n",
        "        for f,frequency in enumerate(frequency_values):\n",
        "            tmp2=copy(C1lat[:,:,s,f])\n",
        "            #print(np.amax(C1lat[:,:,s,f]))\n",
        "            for ori in range(6):\n",
        "                tmp=np.zeros((C1num,C1num))\n",
        "                ori_indices = (C1ori[:,:,s,f]==ori)\n",
        "                tmp[ori_indices] = 1 # binary array: whether it is current orientation or not\n",
        "                tmp=nd.convolve(tmp, kernelInhibition, mode='wrap') #, mode='constant', cval=0.0)\n",
        "                tmp2[ori_indices] = clip(tmp2[ori_indices] * tmp[ori_indices], tmp2[ori_indices], None)\n",
        "            if not flag_inhib:\n",
        "                C1lat[:,:,s,f]=copy(tmp2)\n",
        "                flag_inhib = True\n",
        "                #print(np.amax(C1lat[:,:,s,f]), np.amax(tmp2))\n",
        "            if single:\n",
        "              ax3 = axes3#[f][s]\n",
        "              im3=ax3.imshow(C1lat[:,:,s,f], vmin=0,interpolation='none')\n",
        "              ax3.axis('off');\n",
        "              fig3.subplots_adjust(right=0.8)\n",
        "              cbar_ax = fig3.add_axes([0.85, 0.15, 0.05, 0.7])\n",
        "              fig3.colorbar(im3, cax=cbar_ax)\n",
        "\n",
        "    \n",
        "    ## Saving the C1 layer for the first Gabor filter ##\n",
        "    \n",
        "    C1 = np.zeros([C1num, C1num, 6])\n",
        "    for ori in range(6):\n",
        "        tmp=np.zeros((C1num,C1num))\n",
        "        tmp2=copy(C1lat[:,:,0,0])\n",
        "        tmp[np.nonzero(C1ori[:,:,0,0]==ori)] = tmp2[np.nonzero(C1ori[:,:,0,0]==ori)]\n",
        "        C1[:, :, ori] = copy(tmp)\n",
        "    \n",
        "    if single:    \n",
        "      cols = 6\n",
        "      n = 0\n",
        "      fig4, axes4 = plt.subplots(nrows=1, ncols=cols, figsize=(24, 4))\n",
        "      fig4.suptitle('C1 Layer sparse, orientations - Latency after lateral inhibition#'+str(cnt), fontsize=24)\n",
        "      for y in range(cols):\n",
        "          ax4 = axes4[y]\n",
        "          ax4.imshow(C1[:, :, n], vmin=0, interpolation='none')\n",
        "          ax4.axis('off');\n",
        "          n+=1\n",
        "        \n",
        "    ## Saving the objects: ##\n",
        "    \n",
        "    if not single:\n",
        "      with open('mnist_C1_{}.pickle'.format(cnt), 'wb') as f:\n",
        "          pickle.dump([C1, C1num], f)\n",
        "          # print('file mnist_C1_{}.pickle is saved'.format(cnt))\n",
        "    \n",
        "    if single:\n",
        "      break"
      ],
      "execution_count": null,
      "outputs": [
        {
          "output_type": "stream",
          "name": "stderr",
          "text": [
            "100% (4000 of 4000) |####################| Elapsed Time: 0:02:00 Time:  0:02:00\n"
          ]
        }
      ]
    },
    {
      "cell_type": "code",
      "metadata": {
        "id": "r1oU-JQ5Mg_1",
        "colab": {
          "base_uri": "https://localhost:8080/"
        },
        "outputId": "d1fa032c-cd74-45db-86bc-b58c62d62a2f"
      },
      "source": [
        "## Data preprocessing for S2 input ##\n",
        "import progressbar\n",
        "from random import shuffle\n",
        "\n",
        "i_neur = []\n",
        "t_neur = []\n",
        "\n",
        "dur = num_nums_specific * digits #number of images in the input sequence\n",
        "spikes_dur = 250 #duration of a spike train for 1 picture (in ms) best - 250 ! last 62.5\n",
        "pic_dur = spikes_dur * 2 #total time slot for 1 picture (in ms)\n",
        "\n",
        "\n",
        "count = np.arange(dur)\n",
        "shuffle(count)\n",
        "print(len(count))\n",
        "print(count)\n",
        "\n",
        "per = np.empty((len(count)))\n",
        "\n",
        "z = 0\n",
        "for indx, cnt in enumerate(count):\n",
        "    if indx % (len(count) // 20) == 0:\n",
        "        print('Picture {} out of {}'.format(indx, len(count)))\n",
        "    with open(os.path.join('mnist_C1_{}.pickle'.format(int(cnt))), 'rb') as f:\n",
        "        C1, C1num = pickle.load(f)\n",
        "\n",
        "        indices = array(range(0,C1num**2*6)) #indices of 6 arrays 25x25 for each orientation (flattened)\n",
        "\n",
        "        times = array(C1.reshape((np.prod(C1.shape)))) / 1. #EDIT shrinking the spike train for correct STDP !\n",
        "\n",
        "        per[indx] = np.percentile(times[times > 0], 99) \n",
        "        #print(indx, np.percentile(times[times > 0], 80)) #about 20-50 ms\n",
        "\n",
        "        times[times > spikes_dur] = 0 #to cut the spikes with too large latency (larger than 500 ms)\n",
        "\n",
        "        j = 0\n",
        "        while j < len(times):\n",
        "            if times[j] == 0:\n",
        "                times = np.delete(times, j)\n",
        "                indices = np.delete(indices, j)\n",
        "                j -= 1\n",
        "            j+=1\n",
        "\n",
        "        i_neur = np.concatenate([i_neur, indices])\n",
        "        t_neur = np.concatenate([t_neur, times + z * pic_dur])\n",
        "        z+=1\n",
        "        if z >= dur:\n",
        "            break\n",
        "            \n",
        "print('Number of pictures: ', z)\n",
        "\n",
        "t_neur = t_neur * ms\n",
        "print('Size of the input arrays: ', t_neur.shape, i_neur.shape)\n",
        "print('Unique neuron indices firing: ', len(np.unique(i_neur)))\n",
        "print('Total number of neurons: ', C1num**2 * 6)\n",
        "\n",
        "# for cnt in range(10):\n",
        "#   print(np.mean(per[:int(len(count) / 10) * (cnt + 1)]), len(per[:int(len(count) / 10) * (cnt + 1)]))"
      ],
      "execution_count": null,
      "outputs": [
        {
          "output_type": "stream",
          "name": "stdout",
          "text": [
            "4000\n",
            "[ 451 2521 3466 ... 3436  137 1904]\n",
            "Picture 0 out of 4000\n",
            "Picture 200 out of 4000\n",
            "Picture 400 out of 4000\n",
            "Picture 600 out of 4000\n",
            "Picture 800 out of 4000\n",
            "Picture 1000 out of 4000\n",
            "Picture 1200 out of 4000\n",
            "Picture 1400 out of 4000\n",
            "Picture 1600 out of 4000\n",
            "Picture 1800 out of 4000\n",
            "Picture 2000 out of 4000\n",
            "Picture 2200 out of 4000\n",
            "Picture 2400 out of 4000\n",
            "Picture 2600 out of 4000\n",
            "Picture 2800 out of 4000\n",
            "Picture 3000 out of 4000\n",
            "Picture 3200 out of 4000\n",
            "Picture 3400 out of 4000\n",
            "Picture 3600 out of 4000\n",
            "Picture 3800 out of 4000\n",
            "Number of pictures:  4000\n",
            "Size of the input arrays:  (510253,) (510253,)\n",
            "Unique neuron indices firing:  2640\n",
            "Total number of neurons:  3750\n"
          ]
        }
      ]
    },
    {
      "cell_type": "code",
      "metadata": {
        "id": "jY7Gyl_sMg_7",
        "colab": {
          "base_uri": "https://localhost:8080/",
          "height": 1000
        },
        "outputId": "91f3d21d-cc9f-40aa-f2dc-56aeb32fd880"
      },
      "source": [
        "\n",
        "## S2 Layer ##\n",
        "\n",
        "freq = 8 * Hz\n",
        "amp_mod = 2 * mV #1!\n",
        "\n",
        "## Parameters\n",
        "simulation_duration =  pic_dur / 1000 * dur * second #duration in seconds\n",
        "print('Total teporal length of the full dataset: {} sec.'.format(simulation_duration))\n",
        "\n",
        "# we can train on the whole dataset but 400 seconds is enough.\n",
        "batch_step = 200 * second\n",
        "step_num = 2\n",
        "print('Total training time: {} sec.'.format(batch_step*step_num))\n",
        "\n",
        "PoissonFreq = 0.8 #0.8\n",
        "S2Inhibition = -25 * mV #15\n",
        "\n",
        "## Neurons\n",
        "taum = 10 * ms\n",
        "Ee = 0 * mV\n",
        "vt = -54 * mV\n",
        "vr = -60 * mV\n",
        "El = -74 * mV\n",
        "taue = 5 * ms\n",
        "\n",
        "## STDP\n",
        "taupre = 100 * ms #initially 20 (!!!last good 100, 250ms)    last (15, -25, 62.5ms, 40ms, .05, .01 - fair) ((1, -15!), (2, -25!!), 62.5ms, 40ms, .05, .01 - good)\n",
        "taupost = taupre\n",
        "gmax = .05 #initially .01, but tweaked a little (!!0.05)\n",
        "dApre = .02 #initially .01      (!!last good 0.02)\n",
        "dApost = -dApre * taupre / taupost * 1.05\n",
        "dApost *= gmax\n",
        "dApre *= gmax\n",
        "\n",
        "# Setting the stage\n",
        "network = Network()\n",
        "\n",
        "## Stimuli section\n",
        "num_neurons = 10\n",
        "\n",
        "input_n = NeuronGroup(C1num**2 * 6, 'spike : 1', threshold='spike>0', reset='spike=0')\n",
        "input_n.spike = 0\n",
        "\n",
        "input_spikes = SpikeGeneratorGroup(C1num**2 * 6, i_neur, t_neur)\n",
        "stimulus = TimedArray(np.tile([PoissonFreq, PoissonFreq, 0., 0.], dur)*Hz, dt=spikes_dur/2*ms)\n",
        "input_Poisson = PoissonGroup(C1num**2 * 6, rates='stimulus(t)')\n",
        "\n",
        "network.add(input_n)\n",
        "network.add(input_spikes)\n",
        "network.add(input_Poisson)\n",
        "\n",
        "S_sp = Synapses(input_spikes, input_n, on_pre='spike+=1')\n",
        "S_sp.connect(j='i')\n",
        "network.add(S_sp)\n",
        "\n",
        "S_poi = Synapses(input_Poisson, input_n, on_pre='spike+=1')\n",
        "S_poi.connect(j='i')\n",
        "network.add(S_poi)\n",
        "\n",
        "neurons = NeuronGroup(num_neurons, '''dv/dt = (ge * (Ee-vr) + El - v + amp_mod * cos(2 * pi * (freq * t - 14/16))) / taum : volt\n",
        "                                      dge/dt = -ge / taue : 1''',\n",
        "                      threshold='v>vt', reset='v = vr',\n",
        "                      method='euler')\n",
        "neurons.v = vr\n",
        "network.add(neurons)\n",
        "\n",
        "\n",
        "S = Synapses(input_n, neurons,\n",
        "             '''w : 1\n",
        "                dApre/dt = -Apre / taupre : 1 (event-driven)\n",
        "                dApost/dt = -Apost / taupost : 1 (event-driven)''',\n",
        "             on_pre='''ge += w\n",
        "                    Apre += dApre\n",
        "                    w = clip(w + Apost, 0, gmax)''',\n",
        "             on_post='''Apost += dApost\n",
        "                     w = clip(w + Apre, 0, gmax)''',\n",
        "             )\n",
        "S.connect(p=1.0)\n",
        "#visualise_connectivity(S)\n",
        "\n",
        "k = 0\n",
        "for i, j in zip(S.i, S.j):\n",
        "    k += 1\n",
        "print('Synapses with STDP: ', k) #number of synapses\n",
        "\n",
        "#S.w = '((rand() * 0.1) + 0.45) * gmax'\n",
        "#S.w = '0.01*gmax'\n",
        "smean = 0.7\n",
        "S.w = clip(np.random.normal(gmax * smean, gmax*0.1 / 5, size=k), (smean - 0.05) * gmax, (smean + 0.05) * gmax) #0.5 last (0.7!!)\n",
        "\n",
        "network.add(S)\n",
        "\n",
        "S_in = Synapses(neurons, neurons,\n",
        "                   model='''s: volt''',\n",
        "                   on_pre='v_post += s')\n",
        "S_in.connect(condition='i!=j')# and i!=(j + 1)%num_neurons') #change back to i!=j\n",
        "#S_in.connect(p = 0.8, condition='i!=j')\n",
        "#visualise_connectivity(S_in)\n",
        "S_in.s = S2Inhibition\n",
        "\n",
        "network.add(S_in)\n",
        "\n",
        "syn_i = np.linspace(0, k-1, k)\n",
        "#print(syn_i[::10]) #synapses for S2 cell #0\n",
        "\n",
        "\n",
        "\n",
        "## synapses from cell (2, 2) orientation 0 ##\n",
        "synapse_monitor = StateMonitor(S, 'w', record=True, dt=1*second) \n",
        "network.add(synapse_monitor)\n",
        "\n",
        "mon = SpikeMonitor(neurons, ['v'], record=True)\n",
        "network.add(mon)\n",
        "\n",
        "\n",
        "for time in range(step_num):\n",
        "  network.run(batch_step, report='text')\n",
        "  plt.hist(S.w / gmax)\n",
        "  plt.title(\"Synaptic weight distribution\")\n",
        "  show()\n",
        "  \n",
        "  for cnt in range(num_neurons):  \n",
        "      cell = S.w[cnt::num_neurons]\n",
        "      cell = np.reshape(cell, (C1num, C1num, 6))\n",
        "      cell_complex = np.zeros((C1num, C1num), dtype=complex)\n",
        "      for theta in range(6):\n",
        "        cell_complex += cell[:, :, theta] * np.exp(1j * (theta / 6. + 1/8) * np.pi)\n",
        "      hue = np.angle(cell_complex)\n",
        "      hue = np.interp(hue, (hue.min(), hue.max()), (0, 1))\n",
        "      saturation = abs(cell_complex)\n",
        "      saturation = np.interp(saturation, (saturation.min(), saturation.max()), (0, 1))\n",
        "      value = np.ones((C1num, C1num))\n",
        "      print(hue.shape, saturation.shape, value.shape)\n",
        "      image = np.zeros((C1num, C1num, 3))\n",
        "      for cnt1 in range(C1num):\n",
        "        for cnt2 in range(C1num):\n",
        "          image[cnt1][cnt2][0] = hue[cnt1][cnt2]\n",
        "          image[cnt1][cnt2][1] = saturation[cnt1][cnt2]\n",
        "          image[cnt1][cnt2][2] = value[cnt1][cnt2]\n",
        "      image = hsv2rgb(image)\n",
        "      imshow(image, interpolation='none')\n",
        "      show()\n",
        "  print('time passed: {} sec'.format((time + 1) * 300))"
      ],
      "execution_count": null,
      "outputs": [
        {
          "output_type": "stream",
          "name": "stderr",
          "text": [
            "WARNING    \"i\" is an internal variable of group \"synapses_6\", but also exists in the run namespace with the value 3749. The internal variable will be used. [brian2.groups.group.Group.resolve.resolution_conflict]\n"
          ]
        },
        {
          "output_type": "stream",
          "name": "stdout",
          "text": [
            "Total teporal length of the full dataset: 2000.0 sec.\n",
            "Total training time: 400.0 sec.\n"
          ]
        },
        {
          "output_type": "stream",
          "name": "stderr",
          "text": [
            "WARNING    \"i\" is an internal variable of group \"synapses\", but also exists in the run namespace with the value 3749. The internal variable will be used. [brian2.groups.group.Group.resolve.resolution_conflict]\n",
            "WARNING    \"j\" is an internal variable of group \"synapses_7\", but also exists in the run namespace with the value 9. The internal variable will be used. [brian2.groups.group.Group.resolve.resolution_conflict]\n",
            "WARNING    \"i\" is an internal variable of group \"synapses_7\", but also exists in the run namespace with the value 3749. The internal variable will be used. [brian2.groups.group.Group.resolve.resolution_conflict]\n"
          ]
        },
        {
          "output_type": "stream",
          "name": "stdout",
          "text": [
            "Synapses with STDP:  37500\n"
          ]
        },
        {
          "output_type": "stream",
          "name": "stderr",
          "text": [
            "WARNING    \"v\" is an internal variable of group \"neurongroup_4\", but also exists in the run namespace with the value 0.27252896368891494. The internal variable will be used. [brian2.groups.group.Group.resolve.resolution_conflict]\n",
            "WARNING    \"s\" is an internal variable of group \"synapses_7\", but also exists in the run namespace with the value 0. The internal variable will be used. [brian2.groups.group.Group.resolve.resolution_conflict]\n"
          ]
        },
        {
          "output_type": "stream",
          "name": "stdout",
          "text": [
            "Starting simulation at t=0. s for a duration of 200. s\n",
            "3.7223 s (1%) simulated in 10s, estimated 8m 47s remaining.\n",
            "7.4833 s (3%) simulated in 20s, estimated 8m 35s remaining.\n",
            "11.2311 s (5%) simulated in 30s, estimated 8m 24s remaining.\n",
            "15.002 s (7%) simulated in 40s, estimated 8m 13s remaining.\n",
            "18.7051 s (9%) simulated in 50s, estimated 8m 5s remaining.\n",
            "22.4286 s (11%) simulated in 1m 0s, estimated 7m 55s remaining.\n",
            "26.133 s (13%) simulated in 1m 10s, estimated 7m 46s remaining.\n",
            "29.8775 s (14%) simulated in 1m 20s, estimated 7m 36s remaining.\n",
            "33.6202 s (16%) simulated in 1m 30s, estimated 7m 25s remaining.\n",
            "37.3632 s (18%) simulated in 1m 40s, estimated 7m 15s remaining.\n",
            "41.1183 s (20%) simulated in 1m 50s, estimated 7m 5s remaining.\n",
            "44.8552 s (22%) simulated in 2m 0s, estimated 6m 55s remaining.\n",
            "48.5852 s (24%) simulated in 2m 10s, estimated 6m 45s remaining.\n",
            "52.3254 s (26%) simulated in 2m 20s, estimated 6m 35s remaining.\n",
            "56.0586 s (28%) simulated in 2m 30s, estimated 6m 25s remaining.\n",
            "59.7771 s (29%) simulated in 2m 40s, estimated 6m 15s remaining.\n",
            "63.5172 s (31%) simulated in 2m 50s, estimated 6m 5s remaining.\n",
            "67.2015 s (33%) simulated in 3m 0s, estimated 5m 56s remaining.\n",
            "70.955 s (35%) simulated in 3m 10s, estimated 5m 46s remaining.\n",
            "74.7178 s (37%) simulated in 3m 20s, estimated 5m 35s remaining.\n",
            "78.4833 s (39%) simulated in 3m 30s, estimated 5m 25s remaining.\n",
            "82.2419 s (41%) simulated in 3m 40s, estimated 5m 15s remaining.\n",
            "86.0207 s (43%) simulated in 3m 50s, estimated 5m 5s remaining.\n",
            "89.8396 s (44%) simulated in 4m 0s, estimated 4m 54s remaining.\n",
            "93.6855 s (46%) simulated in 4m 10s, estimated 4m 44s remaining.\n",
            "97.4827 s (48%) simulated in 4m 20s, estimated 4m 33s remaining.\n",
            "101.2784 s (50%) simulated in 4m 30s, estimated 4m 23s remaining.\n",
            "105.0887 s (52%) simulated in 4m 40s, estimated 4m 13s remaining.\n",
            "108.8371 s (54%) simulated in 4m 50s, estimated 4m 3s remaining.\n",
            "112.6306 s (56%) simulated in 5m 0s, estimated 3m 53s remaining.\n",
            "116.4333 s (58%) simulated in 5m 10s, estimated 3m 42s remaining.\n",
            "120.2304 s (60%) simulated in 5m 20s, estimated 3m 32s remaining.\n",
            "124.019 s (62%) simulated in 5m 30s, estimated 3m 22s remaining.\n",
            "127.8154 s (63%) simulated in 5m 40s, estimated 3m 12s remaining.\n",
            "131.5842 s (65%) simulated in 5m 50s, estimated 3m 2s remaining.\n",
            "135.319 s (67%) simulated in 6m 0s, estimated 2m 52s remaining.\n",
            "139.1255 s (69%) simulated in 6m 10s, estimated 2m 42s remaining.\n",
            "142.8895 s (71%) simulated in 6m 20s, estimated 2m 32s remaining.\n",
            "146.6436 s (73%) simulated in 6m 30s, estimated 2m 22s remaining.\n",
            "150.3714 s (75%) simulated in 6m 40s, estimated 2m 12s remaining.\n",
            "154.1417 s (77%) simulated in 6m 50s, estimated 2m 2s remaining.\n",
            "157.9224 s (78%) simulated in 7m 0s, estimated 1m 52s remaining.\n",
            "161.7069 s (80%) simulated in 7m 10s, estimated 1m 42s remaining.\n",
            "165.467 s (82%) simulated in 7m 20s, estimated 1m 32s remaining.\n",
            "169.2223 s (84%) simulated in 7m 30s, estimated 1m 22s remaining.\n",
            "172.9294 s (86%) simulated in 7m 40s, estimated 1m 12s remaining.\n",
            "176.6497 s (88%) simulated in 7m 50s, estimated 1m 2s remaining.\n",
            "180.3999 s (90%) simulated in 8m 0s, estimated 52s remaining.\n",
            "184.1734 s (92%) simulated in 8m 10s, estimated 42s remaining.\n",
            "187.9305 s (93%) simulated in 8m 20s, estimated 32s remaining.\n",
            "191.6512 s (95%) simulated in 8m 30s, estimated 22s remaining.\n",
            "195.4437 s (97%) simulated in 8m 40s, estimated 12s remaining.\n",
            "199.2183 s (99%) simulated in 8m 50s, estimated 2s remaining.\n",
            "200. s (100%) simulated in 8m 52s\n"
          ]
        },
        {
          "output_type": "display_data",
          "data": {
            "image/png": "[encoded data removed]",
            "text/plain": [
              "<Figure size 432x288 with 1 Axes>"
            ]
          },
          "metadata": {
            "needs_background": "light"
          }
        },
        {
          "output_type": "stream",
          "name": "stdout",
          "text": [
            "(25, 25) (25, 25) (25, 25)\n"
          ]
        },
        {
          "output_type": "display_data",
          "data": {
            "image/png": "[encoded data removed]",
            "text/plain": [
              "<Figure size 432x288 with 1 Axes>"
            ]
          },
          "metadata": {
            "needs_background": "light"
          }
        },
        {
          "output_type": "stream",
          "name": "stdout",
          "text": [
            "(25, 25) (25, 25) (25, 25)\n"
          ]
        },
        {
          "output_type": "display_data",
          "data": {
            "image/png": "[encoded data removed]",
            "text/plain": [
              "<Figure size 432x288 with 1 Axes>"
            ]
          },
          "metadata": {
            "needs_background": "light"
          }
        },
        {
          "output_type": "stream",
          "name": "stdout",
          "text": [
            "(25, 25) (25, 25) (25, 25)\n"
          ]
        },
        {
          "output_type": "display_data",
          "data": {
            "image/png": "[encoded data removed]",
            "text/plain": [
              "<Figure size 432x288 with 1 Axes>"
            ]
          },
          "metadata": {
            "needs_background": "light"
          }
        },
        {
          "output_type": "stream",
          "name": "stdout",
          "text": [
            "(25, 25) (25, 25) (25, 25)\n"
          ]
        },
        {
          "output_type": "display_data",
          "data": {
            "image/png": "[encoded data removed]",
            "text/plain": [
              "<Figure size 432x288 with 1 Axes>"
            ]
          },
          "metadata": {
            "needs_background": "light"
          }
        },
        {
          "output_type": "stream",
          "name": "stdout",
          "text": [
            "(25, 25) (25, 25) (25, 25)\n"
          ]
        },
        {
          "output_type": "display_data",
          "data": {
            "image/png": "[encoded data removed]",
            "text/plain": [
              "<Figure size 432x288 with 1 Axes>"
            ]
          },
          "metadata": {
            "needs_background": "light"
          }
        },
        {
          "output_type": "stream",
          "name": "stdout",
          "text": [
            "(25, 25) (25, 25) (25, 25)\n"
          ]
        },
        {
          "output_type": "display_data",
          "data": {
            "image/png": "[encoded data removed]",
            "text/plain": [
              "<Figure size 432x288 with 1 Axes>"
            ]
          },
          "metadata": {
            "needs_background": "light"
          }
        },
        {
          "output_type": "stream",
          "name": "stdout",
          "text": [
            "(25, 25) (25, 25) (25, 25)\n"
          ]
        },
        {
          "output_type": "display_data",
          "data": {
            "image/png": "[encoded data removed]",
            "text/plain": [
              "<Figure size 432x288 with 1 Axes>"
            ]
          },
          "metadata": {
            "needs_background": "light"
          }
        },
        {
          "output_type": "stream",
          "name": "stdout",
          "text": [
            "(25, 25) (25, 25) (25, 25)\n"
          ]
        },
        {
          "output_type": "display_data",
          "data": {
            "image/png": "[encoded data removed]",
            "text/plain": [
              "<Figure size 432x288 with 1 Axes>"
            ]
          },
          "metadata": {
            "needs_background": "light"
          }
        },
        {
          "output_type": "stream",
          "name": "stdout",
          "text": [
            "(25, 25) (25, 25) (25, 25)\n"
          ]
        },
        {
          "output_type": "display_data",
          "data": {
            "image/png": "[encoded data removed]",
            "text/plain": [
              "<Figure size 432x288 with 1 Axes>"
            ]
          },
          "metadata": {
            "needs_background": "light"
          }
        },
        {
          "output_type": "stream",
          "name": "stdout",
          "text": [
            "(25, 25) (25, 25) (25, 25)\n"
          ]
        },
        {
          "output_type": "display_data",
          "data": {
            "image/png": "[encoded data removed]",
            "text/plain": [
              "<Figure size 432x288 with 1 Axes>"
            ]
          },
          "metadata": {
            "needs_background": "light"
          }
        },
        {
          "output_type": "stream",
          "name": "stdout",
          "text": [
            "time passed: 300 sec\n",
            "Starting simulation at t=200. s for a duration of 200. s\n",
            "3.831 s (1%) simulated in 10s, estimated 8m 32s remaining.\n",
            "7.6445 s (3%) simulated in 20s, estimated 8m 23s remaining.\n",
            "11.5043 s (5%) simulated in 30s, estimated 8m 12s remaining.\n",
            "15.3716 s (7%) simulated in 40s, estimated 8m 0s remaining.\n",
            "19.2239 s (9%) simulated in 50s, estimated 7m 50s remaining.\n",
            "23.0699 s (11%) simulated in 1m 0s, estimated 7m 40s remaining.\n",
            "26.9058 s (13%) simulated in 1m 10s, estimated 7m 30s remaining.\n",
            "30.749 s (15%) simulated in 1m 20s, estimated 7m 20s remaining.\n",
            "34.5807 s (17%) simulated in 1m 30s, estimated 7m 11s remaining.\n",
            "38.3677 s (19%) simulated in 1m 40s, estimated 7m 1s remaining.\n",
            "42.1847 s (21%) simulated in 1m 50s, estimated 6m 52s remaining.\n",
            "45.9934 s (22%) simulated in 2m 0s, estimated 6m 42s remaining.\n",
            "49.7833 s (24%) simulated in 2m 10s, estimated 6m 32s remaining.\n",
            "53.5989 s (26%) simulated in 2m 20s, estimated 6m 22s remaining.\n",
            "57.401 s (28%) simulated in 2m 30s, estimated 6m 13s remaining.\n",
            "61.2139 s (30%) simulated in 2m 40s, estimated 6m 3s remaining.\n",
            "65.0164 s (32%) simulated in 2m 50s, estimated 5m 53s remaining.\n",
            "68.7996 s (34%) simulated in 3m 0s, estimated 5m 43s remaining.\n",
            "72.5929 s (36%) simulated in 3m 10s, estimated 5m 33s remaining.\n",
            "76.3994 s (38%) simulated in 3m 20s, estimated 5m 24s remaining.\n",
            "80.1839 s (40%) simulated in 3m 30s, estimated 5m 14s remaining.\n",
            "84.0148 s (42%) simulated in 3m 40s, estimated 5m 4s remaining.\n",
            "87.8328 s (43%) simulated in 3m 50s, estimated 4m 54s remaining.\n",
            "91.6538 s (45%) simulated in 4m 0s, estimated 4m 44s remaining.\n",
            "95.4707 s (47%) simulated in 4m 10s, estimated 4m 34s remaining.\n",
            "99.3032 s (49%) simulated in 4m 20s, estimated 4m 24s remaining.\n",
            "103.1207 s (51%) simulated in 4m 30s, estimated 4m 14s remaining.\n",
            "106.928 s (53%) simulated in 4m 40s, estimated 4m 4s remaining.\n",
            "110.7839 s (55%) simulated in 4m 50s, estimated 3m 54s remaining.\n",
            "114.6588 s (57%) simulated in 5m 0s, estimated 3m 43s remaining.\n",
            "118.5138 s (59%) simulated in 5m 10s, estimated 3m 33s remaining.\n",
            "122.3642 s (61%) simulated in 5m 20s, estimated 3m 23s remaining.\n",
            "126.2536 s (63%) simulated in 5m 30s, estimated 3m 13s remaining.\n",
            "130.1281 s (65%) simulated in 5m 40s, estimated 3m 3s remaining.\n",
            "134.0333 s (67%) simulated in 5m 50s, estimated 2m 52s remaining.\n",
            "137.9311 s (68%) simulated in 6m 0s, estimated 2m 42s remaining.\n",
            "141.81 s (70%) simulated in 6m 10s, estimated 2m 32s remaining.\n",
            "145.7204 s (72%) simulated in 6m 20s, estimated 2m 22s remaining.\n",
            "149.6127 s (74%) simulated in 6m 30s, estimated 2m 11s remaining.\n",
            "153.5054 s (76%) simulated in 6m 40s, estimated 2m 1s remaining.\n",
            "157.4127 s (78%) simulated in 6m 50s, estimated 1m 51s remaining.\n",
            "161.2984 s (80%) simulated in 7m 0s, estimated 1m 41s remaining.\n",
            "165.1841 s (82%) simulated in 7m 10s, estimated 1m 31s remaining.\n",
            "169.0538 s (84%) simulated in 7m 20s, estimated 1m 21s remaining.\n",
            "172.9397 s (86%) simulated in 7m 30s, estimated 1m 10s remaining.\n",
            "176.8376 s (88%) simulated in 7m 40s, estimated 1m 0s remaining.\n",
            "180.7106 s (90%) simulated in 7m 50s, estimated 50s remaining.\n",
            "184.615 s (92%) simulated in 8m 0s, estimated 40s remaining.\n",
            "188.4804 s (94%) simulated in 8m 10s, estimated 30s remaining.\n",
            "192.3187 s (96%) simulated in 8m 20s, estimated 20s remaining.\n",
            "196.2084 s (98%) simulated in 8m 30s, estimated 10s remaining.\n",
            "200. s (100%) simulated in 8m 39s\n"
          ]
        },
        {
          "output_type": "display_data",
          "data": {
            "image/png": "[encoded data removed]",
            "text/plain": [
              "<Figure size 432x288 with 1 Axes>"
            ]
          },
          "metadata": {
            "needs_background": "light"
          }
        },
        {
          "output_type": "stream",
          "name": "stdout",
          "text": [
            "(25, 25) (25, 25) (25, 25)\n"
          ]
        },
        {
          "output_type": "display_data",
          "data": {
            "image/png": "[encoded data removed]",
            "text/plain": [
              "<Figure size 432x288 with 1 Axes>"
            ]
          },
          "metadata": {
            "needs_background": "light"
          }
        },
        {
          "output_type": "stream",
          "name": "stdout",
          "text": [
            "(25, 25) (25, 25) (25, 25)\n"
          ]
        },
        {
          "output_type": "display_data",
          "data": {
            "image/png": "[encoded data removed]",
            "text/plain": [
              "<Figure size 432x288 with 1 Axes>"
            ]
          },
          "metadata": {
            "needs_background": "light"
          }
        },
        {
          "output_type": "stream",
          "name": "stdout",
          "text": [
            "(25, 25) (25, 25) (25, 25)\n"
          ]
        },
        {
          "output_type": "display_data",
          "data": {
            "image/png": "[encoded data removed]",
            "text/plain": [
              "<Figure size 432x288 with 1 Axes>"
            ]
          },
          "metadata": {
            "needs_background": "light"
          }
        },
        {
          "output_type": "stream",
          "name": "stdout",
          "text": [
            "(25, 25) (25, 25) (25, 25)\n"
          ]
        },
        {
          "output_type": "display_data",
          "data": {
            "image/png": "[encoded data removed]",
            "text/plain": [
              "<Figure size 432x288 with 1 Axes>"
            ]
          },
          "metadata": {
            "needs_background": "light"
          }
        },
        {
          "output_type": "stream",
          "name": "stdout",
          "text": [
            "(25, 25) (25, 25) (25, 25)\n"
          ]
        },
        {
          "output_type": "display_data",
          "data": {
            "image/png": "[encoded data removed]",
            "text/plain": [
              "<Figure size 432x288 with 1 Axes>"
            ]
          },
          "metadata": {
            "needs_background": "light"
          }
        },
        {
          "output_type": "stream",
          "name": "stdout",
          "text": [
            "(25, 25) (25, 25) (25, 25)\n"
          ]
        },
        {
          "output_type": "display_data",
          "data": {
            "image/png": "[encoded data removed]",
            "text/plain": [
              "<Figure size 432x288 with 1 Axes>"
            ]
          },
          "metadata": {
            "needs_background": "light"
          }
        },
        {
          "output_type": "stream",
          "name": "stdout",
          "text": [
            "(25, 25) (25, 25) (25, 25)\n"
          ]
        },
        {
          "output_type": "display_data",
          "data": {
            "image/png": "[encoded data removed]",
            "text/plain": [
              "<Figure size 432x288 with 1 Axes>"
            ]
          },
          "metadata": {
            "needs_background": "light"
          }
        },
        {
          "output_type": "stream",
          "name": "stdout",
          "text": [
            "(25, 25) (25, 25) (25, 25)\n"
          ]
        },
        {
          "output_type": "display_data",
          "data": {
            "image/png": "[encoded data removed]",
            "text/plain": [
              "<Figure size 432x288 with 1 Axes>"
            ]
          },
          "metadata": {
            "needs_background": "light"
          }
        },
        {
          "output_type": "stream",
          "name": "stdout",
          "text": [
            "(25, 25) (25, 25) (25, 25)\n"
          ]
        },
        {
          "output_type": "display_data",
          "data": {
            "image/png": "[encoded data removed]",
            "text/plain": [
              "<Figure size 432x288 with 1 Axes>"
            ]
          },
          "metadata": {
            "needs_background": "light"
          }
        },
        {
          "output_type": "stream",
          "name": "stdout",
          "text": [
            "(25, 25) (25, 25) (25, 25)\n"
          ]
        },
        {
          "output_type": "display_data",
          "data": {
            "image/png": "[encoded data removed]",
            "text/plain": [
              "<Figure size 432x288 with 1 Axes>"
            ]
          },
          "metadata": {
            "needs_background": "light"
          }
        },
        {
          "output_type": "stream",
          "name": "stdout",
          "text": [
            "time passed: 600 sec\n"
          ]
        }
      ]
    },
    {
      "cell_type": "code",
      "metadata": {
        "id": "XEo1PyvPMg_-",
        "colab": {
          "base_uri": "https://localhost:8080/",
          "height": 422
        },
        "outputId": "a9bba845-d4e9-48df-f90c-5cfb9e06082a"
      },
      "source": [
        "HSV = True\n",
        "\n",
        "if not HSV:\n",
        "    imgs = np.zeros((10, C1num, C1num))\n",
        "    print(imgs.shape)\n",
        "    for cnt in range(10):  \n",
        "        cell = Sw[cnt::10]\n",
        "        cell = cell.reshape(C1num, C1num, 6)\n",
        "        img = np.mean(cell, axis=2)\n",
        "        imgs[cnt, :, :] = img\n",
        "else:\n",
        "    imgs = np.zeros((num_neurons, C1num, C1num, 3))\n",
        "    for cnt in range(num_neurons):  \n",
        "        cell = S.w[cnt::num_neurons]\n",
        "        cell = np.reshape(cell, (C1num, C1num, 6))\n",
        "        cell_complex = np.zeros((C1num, C1num), dtype=complex)\n",
        "        for theta in range(6):\n",
        "            cell_complex += cell[:, :, theta] * np.exp(1j * (theta / 6. + 1/8) * np.pi)\n",
        "        hue = np.angle(cell_complex)\n",
        "        hue = np.interp(hue, (hue.min(), hue.max()), (0, 1))\n",
        "        saturation = abs(cell_complex)\n",
        "        saturation = np.interp(saturation, (saturation.min(), saturation.max()), (0, 1))\n",
        "        value = np.ones((C1num, C1num))\n",
        "        image = np.zeros((C1num, C1num, 3))\n",
        "        for cnt1 in range(C1num):\n",
        "            for cnt2 in range(C1num):\n",
        "                image[cnt1][cnt2][0] = hue[cnt1][cnt2]\n",
        "                image[cnt1][cnt2][1] = saturation[cnt1][cnt2]\n",
        "                image[cnt1][cnt2][2] = value[cnt1][cnt2]\n",
        "        image = hsv2rgb(image)\n",
        "        imgs[cnt, :, :, :] = image\n",
        "    \n",
        "cols = 5\n",
        "rows = 2\n",
        "fig, axes = plt.subplots(nrows=rows, ncols=cols, figsize=(16, 8))\n",
        "# fig.suptitle('S2 patterns', fontsize=24)\n",
        "n=0\n",
        "for x in range(0,rows):\n",
        "    for y in range(0,cols):\n",
        "        ax = axes[x][y]\n",
        "        im = ax.imshow(imgs[n], vmin = imgs[n].min(), vmax=imgs[n].max(), interpolation='none', cmap='binary')\n",
        "        n=n+1\n",
        "        ax.axis('off')\n",
        "        if n - 1 > num_neurons:\n",
        "          break\n",
        "    if n - 1 > num_neurons:\n",
        "        break\n",
        "\n",
        "savefig('1d.pdf', dpi = 600)"
      ],
      "execution_count": null,
      "outputs": [
        {
          "output_type": "display_data",
          "data": {
            "image/png": "[encoded data removed]",
            "text/plain": [
              "<Figure size 1152x576 with 10 Axes>"
            ]
          },
          "metadata": {
            "needs_background": "light"
          }
        }
      ]
    },
    {
      "cell_type": "code",
      "metadata": {
        "id": "trV4lw4VMhAC",
        "colab": {
          "base_uri": "https://localhost:8080/",
          "height": 337
        },
        "outputId": "948ac60a-9f85-4f32-f14b-b83eec5f4b9e"
      },
      "source": [
        "num_image = 2000\n",
        "total_images = 1.1\n",
        "a = pic_dur * (num_image - 0.01)/1000\n",
        "b = a + (spikes_dur + pic_dur * (total_images - 1))/1000\n",
        "figure(figsize=(15, 5))\n",
        "\n",
        "# Manually written numbers of cells that \"recognize\" a digit 0\n",
        "# has to be edited every time\n",
        "zrs = [1, 2, 3, 4, 5, 8]\n",
        "\n",
        "mon_new_i = [i not in zrs for i in mon.i]\n",
        "mon_new_t = mon.t/second*2 - step_num*batch_step/second\n",
        "\n",
        "\n",
        "mon_new_t = mon_new_t[mon_new_t > 0]\n",
        "mon_new_i = mon_new_i[-len(mon_new_t):]\n",
        "plot(mon_new_t, mon_new_i, '.')\n",
        "\n",
        "xlim(0, 30)\n",
        "labels_export = count[2000:]//num_nums_specific\n",
        "print(labels_export[:30])\n",
        "\n",
        "file = 'spikes_for_global_alt.pickle'\n",
        "with open(file, 'wb') as f:\n",
        "           pickle.dump([mon_new_t, mon_new_i, labels_export], f)\n",
        "\n",
        "show()"
      ],
      "execution_count": null,
      "outputs": [
        {
          "output_type": "stream",
          "name": "stdout",
          "text": [
            "[0 0 0 0 1 0 1 0 1 0 1 1 1 1 1 1 0 0 0 0 0 1 1 0 1 0 1 1 1 0]\n"
          ]
        },
        {
          "output_type": "display_data",
          "data": {
            "image/png": "[encoded data removed]",
            "text/plain": [
              "<Figure size 1080x360 with 1 Axes>"
            ]
          },
          "metadata": {
            "needs_background": "light"
          }
        }
      ]
    },
    {
      "cell_type": "code",
      "metadata": {
        "id": "KwaAjvS3DHYr",
        "colab": {
          "base_uri": "https://localhost:8080/"
        },
        "outputId": "c8c41fd8-cb34-4412-b9f8-50d39f032ad5"
      },
      "source": [
        "## A network to test the output from a single image after the Hebbian Learning ##\n",
        "specific_nums_valid = []\n",
        "for num in range(10):\n",
        "  specific_nums_valid.append(x_train[y_train == num])\n",
        "valid = []\n",
        "\n",
        "digits_valid = digits\n",
        "num_nums_specific_valid = int(100 / digits_valid)\n",
        "for num in range(digits_valid): #num of objects used in the input\n",
        "    for numnum in range(num_nums_specific_valid):\n",
        "      valid.append(rescale(specific_nums[num][numnum + 1000], 128/28, multichannel=False))\n",
        "    \n",
        "for cnt in progressbar.progressbar(range(len(valid))):\n",
        "    #print('Current file processing: ', cnt)\n",
        "    img = valid[cnt]\n",
        "    spikes=np.zeros((imgDef,imgDef,6,len(sigma_values),len(frequency_values)))\n",
        "    n=0\n",
        "    for theta in range(6):\n",
        "        for s,sigma in enumerate(sigma_values):\n",
        "            for f,frequency in enumerate(frequency_values):\n",
        "                spikes[:,:,theta,s,f]=resize(power_conv(img,kernels[n]), (imgDef, imgDef)) #convolutions for all thetas, sigmas, f\n",
        "                n+=1\n",
        "    S1ori=np.argmax(spikes, axis=2) #number of orientation propagated (C1xC1xsxf)\n",
        "    S1val=np.max(spikes, axis=2) #value at this orientation\n",
        "    S1ori[S1val < 3e-1 * np.max(S1val)] = -1 #EDIT to cancel out cells where actually nothing but they still got some orientation\n",
        "    #print(S1val.shape)\n",
        "    C1ori=np.zeros([C1num,C1num,len(sigma_values),len(frequency_values)])\n",
        "    C1lat=np.zeros([C1num,C1num,len(sigma_values),len(frequency_values)])\n",
        "    for s,sigma in enumerate(sigma_values):\n",
        "        for f,frequency in enumerate(frequency_values):\n",
        "            for x,px in enumerate(range(0,imgDef-receptiveFieldSize,receptiveFieldSize-2)):\n",
        "                for y,py in enumerate(range(0,imgDef-receptiveFieldSize,receptiveFieldSize-2)):\n",
        "                    fstSpX,fstSpY=np.unravel_index(np.argmax(S1val[px:(px+receptiveFieldSize),py:(py+receptiveFieldSize),s,f]),(receptiveFieldSize,receptiveFieldSize))\n",
        "                    C1ori[x,y,s,f]=S1ori[px+fstSpX,py+fstSpY,s,f]\n",
        "                    v=S1val[px+fstSpX,py+fstSpY,s,f]\n",
        "                    #print(1/v)\n",
        "                    if v==0:\n",
        "                        C1lat[x,y,s,f]=np.nan\n",
        "                        C1ori[x,y,s,f]=np.nan\n",
        "                    else:\n",
        "                        C1lat[x,y,s,f]=1/v\n",
        "    \n",
        "    flag_inhib = False\n",
        "    \n",
        "    for s,sigma in enumerate(sigma_values):\n",
        "        for f,frequency in enumerate(frequency_values):\n",
        "            tmp2=copy(C1lat[:,:,s,f])\n",
        "            #print(np.amax(C1lat[:,:,s,f]))\n",
        "            for ori in range(6):\n",
        "                tmp=np.zeros((C1num,C1num))\n",
        "                ori_indices = (C1ori[:,:,s,f]==ori)\n",
        "                tmp[ori_indices] = 1 # binary array: whether it is current orientation or not\n",
        "                tmp=nd.convolve(tmp, kernelInhibition, mode='wrap') #, mode='constant', cval=0.0)\n",
        "                tmp2[ori_indices] = clip(tmp2[ori_indices] * tmp[ori_indices], tmp2[ori_indices], None)\n",
        "            if not flag_inhib:\n",
        "                C1lat[:,:,s,f]=copy(tmp2)\n",
        "                flag_inhib = True\n",
        "                #print(np.amax(C1lat[:,:,s,f]), np.amax(tmp2))\n",
        "    \n",
        "    ## Saving the C1 layer for the first Gabor filter ##\n",
        "    \n",
        "    C1 = np.zeros([C1num, C1num, 6])\n",
        "    for ori in range(6):\n",
        "        tmp=np.zeros((C1num,C1num))\n",
        "        tmp2=copy(C1lat[:,:,0,0])\n",
        "        tmp[np.nonzero(C1ori[:,:,0,0]==ori)] = tmp2[np.nonzero(C1ori[:,:,0,0]==ori)]\n",
        "        C1[:, :, ori] = copy(tmp)\n",
        "        \n",
        "    ## Saving the objects: ##\n",
        "    with open('valid_C1_{}.pickle'.format(cnt), 'wb') as f:\n",
        "        pickle.dump([C1, C1num], f)\n",
        "\n",
        "\n",
        "i_neur_valid = []\n",
        "t_neur_valid = []\n",
        "\n",
        "dur_valid = num_nums_specific_valid * digits_valid #number of images in the input sequence\n",
        "\n",
        "\n",
        "z = 0\n",
        "for cnt in range(len(valid)):\n",
        "    with open(os.path.join('valid_C1_{}.pickle'.format(int(cnt))), 'rb') as f:\n",
        "        C1, C1num = pickle.load(f)\n",
        "\n",
        "        indices = array(range(0,C1num**2*6)) #indices of 6 arrays 25x25 for each orientation (flattened)\n",
        "\n",
        "        times = array(C1.reshape((np.prod(C1.shape)))) / 1. #EDIT shrinking the spike train for correct STDP\n",
        "        #print(np.percentile(times[times > 0], 99)) #about 1000 ms (80th percentile): reducing factor 1000 ms/20 ms = 50\n",
        "\n",
        "        times[times > spikes_dur] = 0 #to cut the spikes with too large latency (larger than 500 ms)\n",
        "        \n",
        "        j = 0\n",
        "        while j < len(times):\n",
        "            if times[j] == 0:\n",
        "                times = np.delete(times, j)\n",
        "                indices = np.delete(indices, j)\n",
        "                j -= 1\n",
        "            j+=1\n",
        "        \n",
        "        i_neur_valid = np.concatenate([i_neur_valid, indices])\n",
        "        t_neur_valid = np.concatenate([t_neur_valid, times + z * pic_dur])\n",
        "        z+=1\n",
        "        if z >= dur:\n",
        "            break\n",
        "\n",
        "t_neur_valid = t_neur_valid * ms\n",
        "        \n",
        "test = Network()\n",
        "\n",
        "input_test = SpikeGeneratorGroup(C1num**2 * 6, i_neur_valid, t_neur_valid)\n",
        "test.add(input_test)\n",
        "\n",
        "neurons_test = NeuronGroup(num_neurons, \n",
        "                           '''dv/dt = (ge * (Ee-vr) + El - v) / taum : volt\n",
        "                                      dge/dt = -ge / taue : 1''',\n",
        "                      threshold='v>vt', reset='v = vr',\n",
        "                      method='linear')\n",
        "neurons_test.v = vr\n",
        "test.add(neurons_test)\n",
        "\n",
        "S_test = Synapses(input_test, neurons_test, '''w : 1''', on_pre='''ge += w''')\n",
        "S_test.connect(p=1.0)\n",
        "S_test.w = S.w\n",
        "test.add(S_test)\n",
        "\n",
        "\n",
        "accuracy = 0\n",
        "accuracy_b = 0\n",
        "S2 = [0, 1, 2, 3, 4, 5, 6, 7, 8, 9]\n",
        "cells = []\n",
        "for cnt in range(len(valid)):\n",
        "  mon_test = SpikeMonitor(neurons_test, ['v'], record=True)\n",
        "  test.add(mon_test)\n",
        "  test.run(pic_dur * ms)\n",
        "  if cnt % 10 == 0:\n",
        "    print()\n",
        "\n",
        "  print('cell #{}, activated cell #: {}, correct answer: {}'.format(mon_test.i[0], S2[mon_test.i[0]], cnt // num_nums_specific_valid))\n",
        "  cells.append(mon_test.i[0])\n",
        "  if S2[mon_test.i[0]] == cnt // num_nums_specific_valid:\n",
        "    accuracy += 1\n",
        "  del mon_test\n",
        "\n",
        "accuracy /= len(valid)\n",
        "print('Accuracy: {}%'.format(accuracy * 100))"
      ],
      "execution_count": null,
      "outputs": [
        {
          "output_type": "stream",
          "name": "stderr",
          "text": [
            "100% (100 of 100) |######################| Elapsed Time: 0:00:03 Time:  0:00:03\n",
            "WARNING    \"v\" is an internal variable of group \"neurongroup_5\", but also exists in the run namespace with the value 0.4001663060510594. The internal variable will be used. [brian2.groups.group.Group.resolve.resolution_conflict]\n"
          ]
        },
        {
          "output_type": "stream",
          "name": "stdout",
          "text": [
            "\n",
            "cell #4, activated cell #: 4, correct answer: 0\n",
            "cell #5, activated cell #: 5, correct answer: 0\n",
            "cell #4, activated cell #: 4, correct answer: 0\n",
            "cell #3, activated cell #: 3, correct answer: 0\n",
            "cell #2, activated cell #: 2, correct answer: 0\n",
            "cell #5, activated cell #: 5, correct answer: 0\n",
            "cell #5, activated cell #: 5, correct answer: 0\n",
            "cell #5, activated cell #: 5, correct answer: 0\n",
            "cell #5, activated cell #: 5, correct answer: 0\n",
            "cell #4, activated cell #: 4, correct answer: 0\n",
            "\n",
            "cell #5, activated cell #: 5, correct answer: 0\n",
            "cell #2, activated cell #: 2, correct answer: 0\n",
            "cell #5, activated cell #: 5, correct answer: 0\n",
            "cell #4, activated cell #: 4, correct answer: 0\n",
            "cell #5, activated cell #: 5, correct answer: 0\n",
            "cell #4, activated cell #: 4, correct answer: 0\n",
            "cell #2, activated cell #: 2, correct answer: 0\n",
            "cell #2, activated cell #: 2, correct answer: 0\n",
            "cell #3, activated cell #: 3, correct answer: 0\n",
            "cell #2, activated cell #: 2, correct answer: 0\n",
            "\n",
            "cell #4, activated cell #: 4, correct answer: 0\n",
            "cell #5, activated cell #: 5, correct answer: 0\n",
            "cell #8, activated cell #: 8, correct answer: 0\n",
            "cell #1, activated cell #: 1, correct answer: 0\n",
            "cell #4, activated cell #: 4, correct answer: 0\n",
            "cell #4, activated cell #: 4, correct answer: 0\n",
            "cell #4, activated cell #: 4, correct answer: 0\n",
            "cell #1, activated cell #: 1, correct answer: 0\n",
            "cell #3, activated cell #: 3, correct answer: 0\n",
            "cell #4, activated cell #: 4, correct answer: 0\n",
            "\n",
            "cell #3, activated cell #: 3, correct answer: 0\n",
            "cell #8, activated cell #: 8, correct answer: 0\n",
            "cell #4, activated cell #: 4, correct answer: 0\n",
            "cell #4, activated cell #: 4, correct answer: 0\n",
            "cell #2, activated cell #: 2, correct answer: 0\n",
            "cell #4, activated cell #: 4, correct answer: 0\n",
            "cell #4, activated cell #: 4, correct answer: 0\n",
            "cell #2, activated cell #: 2, correct answer: 0\n",
            "cell #2, activated cell #: 2, correct answer: 0\n",
            "cell #8, activated cell #: 8, correct answer: 0\n",
            "\n",
            "cell #5, activated cell #: 5, correct answer: 0\n",
            "cell #8, activated cell #: 8, correct answer: 0\n",
            "cell #4, activated cell #: 4, correct answer: 0\n",
            "cell #1, activated cell #: 1, correct answer: 0\n",
            "cell #8, activated cell #: 8, correct answer: 0\n",
            "cell #1, activated cell #: 1, correct answer: 0\n",
            "cell #4, activated cell #: 4, correct answer: 0\n",
            "cell #4, activated cell #: 4, correct answer: 0\n",
            "cell #4, activated cell #: 4, correct answer: 0\n",
            "cell #5, activated cell #: 5, correct answer: 0\n",
            "\n",
            "cell #9, activated cell #: 9, correct answer: 1\n",
            "cell #6, activated cell #: 6, correct answer: 1\n",
            "cell #9, activated cell #: 9, correct answer: 1\n",
            "cell #6, activated cell #: 6, correct answer: 1\n",
            "cell #9, activated cell #: 9, correct answer: 1\n",
            "cell #6, activated cell #: 6, correct answer: 1\n",
            "cell #9, activated cell #: 9, correct answer: 1\n",
            "cell #9, activated cell #: 9, correct answer: 1\n",
            "cell #9, activated cell #: 9, correct answer: 1\n",
            "cell #9, activated cell #: 9, correct answer: 1\n",
            "\n",
            "cell #7, activated cell #: 7, correct answer: 1\n",
            "cell #5, activated cell #: 5, correct answer: 1\n",
            "cell #6, activated cell #: 6, correct answer: 1\n",
            "cell #7, activated cell #: 7, correct answer: 1\n",
            "cell #6, activated cell #: 6, correct answer: 1\n",
            "cell #7, activated cell #: 7, correct answer: 1\n",
            "cell #7, activated cell #: 7, correct answer: 1\n",
            "cell #7, activated cell #: 7, correct answer: 1\n",
            "cell #6, activated cell #: 6, correct answer: 1\n",
            "cell #6, activated cell #: 6, correct answer: 1\n",
            "\n",
            "cell #6, activated cell #: 6, correct answer: 1\n",
            "cell #6, activated cell #: 6, correct answer: 1\n",
            "cell #7, activated cell #: 7, correct answer: 1\n",
            "cell #9, activated cell #: 9, correct answer: 1\n",
            "cell #0, activated cell #: 0, correct answer: 1\n",
            "cell #9, activated cell #: 9, correct answer: 1\n",
            "cell #9, activated cell #: 9, correct answer: 1\n",
            "cell #6, activated cell #: 6, correct answer: 1\n",
            "cell #9, activated cell #: 9, correct answer: 1\n",
            "cell #6, activated cell #: 6, correct answer: 1\n",
            "\n",
            "cell #6, activated cell #: 6, correct answer: 1\n",
            "cell #6, activated cell #: 6, correct answer: 1\n",
            "cell #6, activated cell #: 6, correct answer: 1\n",
            "cell #6, activated cell #: 6, correct answer: 1\n",
            "cell #7, activated cell #: 7, correct answer: 1\n",
            "cell #6, activated cell #: 6, correct answer: 1\n",
            "cell #6, activated cell #: 6, correct answer: 1\n",
            "cell #3, activated cell #: 3, correct answer: 1\n",
            "cell #6, activated cell #: 6, correct answer: 1\n",
            "cell #6, activated cell #: 6, correct answer: 1\n",
            "\n",
            "cell #6, activated cell #: 6, correct answer: 1\n",
            "cell #6, activated cell #: 6, correct answer: 1\n",
            "cell #7, activated cell #: 7, correct answer: 1\n",
            "cell #6, activated cell #: 6, correct answer: 1\n",
            "cell #6, activated cell #: 6, correct answer: 1\n",
            "cell #6, activated cell #: 6, correct answer: 1\n",
            "cell #6, activated cell #: 6, correct answer: 1\n",
            "cell #6, activated cell #: 6, correct answer: 1\n",
            "cell #6, activated cell #: 6, correct answer: 1\n",
            "cell #1, activated cell #: 1, correct answer: 1\n",
            "Accuracy: 1.0%\n"
          ]
        }
      ]
    },
    {
      "cell_type": "code",
      "metadata": {
        "id": "FAP9WsIXFuLl",
        "colab": {
          "base_uri": "https://localhost:8080/"
        },
        "outputId": "992a1bb5-3fea-423b-9dcd-18025e78b397"
      },
      "source": [
        "count1 = np.empty((10), dtype=int)\n",
        "count2 = np.empty((10), dtype=int)\n",
        "for i in range(10):\n",
        "  count1[i] = cells[:50].count(i)\n",
        "  count2[i] = cells[50:].count(i)\n",
        "print('Legit Accuracy: {}%'.format(100 - np.sum(np.minimum(count1, count2))))"
      ],
      "execution_count": null,
      "outputs": [
        {
          "output_type": "stream",
          "text": [
            "Legit Accuracy: 94%\n"
          ],
          "name": "stdout"
        }
      ]
    }
  ]
}