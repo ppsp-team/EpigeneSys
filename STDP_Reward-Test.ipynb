{
 "cells": [
  {
   "cell_type": "code",
   "execution_count": 2,
   "metadata": {
    "scrolled": false
   },
   "outputs": [
    {
     "name": "stderr",
     "output_type": "stream",
     "text": [
      "WARNING    Cannot use Cython, a test compilation failed: Cython is not available (ImportError) [brian2.codegen.runtime.cython_rt.cython_rt.failed_compile_test]\n",
      "INFO       Cannot use compiled code, falling back to the numpy code generation target. Note that this will likely be slower than using compiled code. Set the code generation to numpy manually to avoid this message:\n",
      "prefs.codegen.target = \"numpy\" [brian2.devices.device.codegen_fallback]\n",
      "WARNING    c:\\users\\valentin\\appdata\\local\\programs\\python\\python37-32\\lib\\site-packages\\sympy\\matrices\\matrices.py:2479: SymPyDeprecationWarning: \n",
      "\n",
      "Dot product of non row/column vectors has been deprecated since SymPy\n",
      "1.2. Use * to take matrix products instead. See\n",
      "https://github.com/sympy/sympy/issues/13815 for more info.\n",
      "\n",
      "  useinstead=\"* to take matrix products\").warn()\n",
      " [py.warnings]\n"
     ]
    },
    {
     "name": "stdout",
     "output_type": "stream",
     "text": [
      "Starting simulation at t=0. s for a duration of 6. s\n",
      "4.5419 (75%) simulated in 10s, estimated 3s remaining.\n",
      "6.0 (100%) simulated in 13s\n"
     ]
    }
   ],
   "source": [
    "#!/usr/bin/env python\n",
    "# -*- coding: utf-8 -*-\n",
    "\n",
    "'''\n",
    "STDP modulated with reward\n",
    "\n",
    "Adapted from Fig. 1c of:\n",
    "Eugene M. Izhikevich \n",
    "Solving the distal reward problem through linkage of STDP and dopamine signaling. \n",
    "Cerebral cortex 17, no. 10 (2007): 2443-2452.\n",
    "\n",
    "Note:\n",
    "The variable \"mode\" can switch the behavior of the synapse from \"Classical STDP\" to \"Dopamine modulated STDP\".\n",
    "\n",
    "Author: Guillaume Dumas (Institut Pasteur)\n",
    "Date: 2018-08-24\n",
    "'''\n",
    "from brian2 import *\n",
    "\n",
    "# Parameters\n",
    "simulation_duration = 6 * second\n",
    "\n",
    "## Neurons\n",
    "taum = 10*ms\n",
    "Ee = 0*mV\n",
    "vt = -54*mV\n",
    "vr = -60*mV\n",
    "El = -74*mV\n",
    "taue = 5*ms\n",
    "\n",
    "## STDP\n",
    "taupre = 20*ms\n",
    "taupost = taupre\n",
    "gmax = .01\n",
    "dApre = .01\n",
    "dApost = -dApre * taupre / taupost * 1.05\n",
    "dApost *= gmax\n",
    "dApre *= gmax\n",
    "\n",
    "## Dopamine signaling\n",
    "tauc = 1000*ms\n",
    "taud = 200*ms\n",
    "taus = 1*ms\n",
    "epsilon_dopa = 5e-3\n",
    "\n",
    "# Setting the stage\n",
    "network = Network()\n",
    "\n",
    "## Stimuli section\n",
    "num_neurons = 100\n",
    "\n",
    "input_rate = 1*Hz\n",
    "input = PoissonGroup(num_neurons, input_rate)\n",
    "network.add(input)\n",
    "\n",
    "neurons = NeuronGroup(num_neurons, '''dv/dt = (ge * (Ee-vr) + El - v) / taum : volt\n",
    "                                      dge/dt = -ge / taue : 1''',\n",
    "                      threshold='v>vt', reset='v = vr',\n",
    "                      method='linear')\n",
    "neurons.v = vr\n",
    "network.add(neurons)\n",
    "\n",
    "neurons_monitor = SpikeMonitor(neurons, ['v'], record=True)\n",
    "network.add(neurons_monitor)\n",
    "\n",
    "synapse = Synapses(input, neurons, \n",
    "                   model='''s: volt''',\n",
    "                   on_pre='v += s')\n",
    "synapse.connect(i=list(range(0, num_neurons)), j=list(range(0, num_neurons)))\n",
    "synapse.s = 100. * mV\n",
    "\n",
    "network.add(synapse)\n",
    "\n",
    "## STDP section\n",
    "epsilon = 0.1 # sparseness of synaptic connections\n",
    "\n",
    "synapse_stdp = Synapses(neurons, neurons,\n",
    "                   model='''mode: 1\n",
    "                         dc/dt = -c / tauc : 1 (clock-driven)\n",
    "                         dd/dt = -d / taud : 1 (clock-driven)\n",
    "                         ds/dt = mode * c * d / taus : 1 (clock-driven)\n",
    "                         dApre/dt = -Apre / taupre : 1 (event-driven)\n",
    "                         dApost/dt = -Apost / taupost : 1 (event-driven)''',\n",
    "                   on_pre='''ge += s\n",
    "                          Apre += dApre\n",
    "                          c = clip(c + mode * Apost, -gmax, gmax)\n",
    "                          s = clip(s + (1-mode) * Apost, -gmax, gmax)\n",
    "                          ''',\n",
    "                   on_post='''Apost += dApost\n",
    "                          c = clip(c + mode * Apre, -gmax, gmax)\n",
    "                          s = clip(s + (1-mode) * Apre, -gmax, gmax)\n",
    "                          ''',\n",
    "                   method='euler'\n",
    "                   )\n",
    "synapse_stdp.connect(p=epsilon)\n",
    "if not((0, 1) in zip(synapse_stdp.i, synapse_stdp.j)):\n",
    "    synapse_stdp.connect(i=0, j=1)\n",
    "\n",
    "k = 0\n",
    "for i, j in zip(synapse_stdp.i, synapse_stdp.j):\n",
    "    if ((i,j)==(0,1)):\n",
    "        break\n",
    "    k+=1\n",
    "\n",
    "synapse_stdp.mode = 0\n",
    "synapse_stdp.s = 1e-10\n",
    "synapse_stdp.c = 1e-10\n",
    "synapse_stdp.d = 0\n",
    "\n",
    "network.add(synapse_stdp)\n",
    "\n",
    "synapse_stdp_monitor = StateMonitor(synapse_stdp, ['s', 'c', 'd'], record=[k])\n",
    "network.add(synapse_stdp_monitor)\n",
    "\n",
    "## Dopamine signaling section\n",
    "\n",
    "check_reward = NeuronGroup(1, '''dunlock/dt = (-1*second-unlock*0.001)/(1*second) : second\n",
    "                                 spike : second''',\n",
    "                          threshold='spike > 1*ms', reset='spike = 0*second', method='linear')\n",
    "network.add(check_reward)\n",
    "check_monitor = StateMonitor(check_reward, ['unlock', 'spike'], record=True)\n",
    "#network.add(check_monitor)\n",
    "\n",
    "check_pre = Synapses(neurons, check_reward, model='''''', on_pre='unlock_post = 11*ms', method='exact')\n",
    "check_post = Synapses(neurons, check_reward, model='''''', on_pre='spike_post = clip(unlock_post, 0*second, 11*ms)', method='exact')\n",
    "check_pre.connect(i=0, j=0)\n",
    "check_post.connect(i=1, j=0)\n",
    "network.add(check_pre)\n",
    "network.add(check_post)\n",
    "\n",
    "dopamine = NeuronGroup(1, '''v : volt''', threshold='v>1*volt', reset='v=0*volt')\n",
    "network.add(dopamine)\n",
    "dopamine_trigger = Synapses(check_reward, dopamine, model='''''', on_pre='v_post += 2*volt', method='exact')\n",
    "dopamine_trigger.connect(p=1.)\n",
    "network.add(dopamine_trigger)\n",
    "\n",
    "\n",
    "reward = Synapses(dopamine, synapse_stdp, model='''''',\n",
    "                             on_pre='''d_post += epsilon_dopa''',\n",
    "                             method='exact')\n",
    "reward.connect(p=1.)\n",
    "reward.delay='1*second'\n",
    "network.add(reward)\n",
    "\n",
    "# Simulation\n",
    "## Classical STDP\n",
    "#synapse_stdp.mode = 0\n",
    "\n",
    "## Dopamine modulated STDP\n",
    "synapse_stdp.mode = 1\n",
    "network.run(simulation_duration, report='text')"
   ]
  },
  {
   "cell_type": "code",
   "execution_count": 3,
   "metadata": {},
   "outputs": [
    {
     "data": {
      "image/png": "[encoded data removed]",
      "text/plain": [
       "<Figure size 432x288 with 1 Axes>"
      ]
     },
     "metadata": {
      "needs_background": "light"
     },
     "output_type": "display_data"
    }
   ],
   "source": [
    "# Visualisation\n",
    "#spikes_0 = [neurons_monitor.t[j] for j in range(len(neurons_monitor.t)) if neurons_monitor.i[j]==0]\n",
    "#spikes_1 = [neurons_monitor.t[j] for j in range(len(neurons_monitor.t)) if neurons_monitor.i[j]==1]\n",
    "\n",
    "plot(synapse_stdp_monitor.t/second, synapse_stdp_monitor.s.T/gmax, 'g-')\n",
    "#plot(spikes_0/second, [0]*len(spikes_0), 'b+')\n",
    "#plot(spikes_1/second, [0]*len(spikes_1), 'r+')\n",
    "xlim([0, simulation_duration/second])\n",
    "ylabel('Synaptic strength s(t)')\n",
    "xlabel('Time (s)')\n",
    "show()"
   ]
  },
  {
   "cell_type": "code",
   "execution_count": 21,
   "metadata": {},
   "outputs": [
    {
     "data": {
      "text/plain": [
       "<spikemonitor.i: array([95, 95, 30, 41,  5, 68, 23, 73,  3, 97, 52, 70,  6, 74, 45, 27, 64,\n",
       "       45, 45, 28, 73, 43, 18, 97, 71, 79, 96, 90, 97, 75, 76, 48, 60, 35,\n",
       "       62,  2, 75,  6, 18, 81, 17, 39, 85, 88, 10,  6, 25, 81, 34, 51, 50,\n",
       "        6, 49, 24, 80, 28, 20, 44, 93, 13, 99, 93, 43,  6, 18, 44, 91, 38,\n",
       "       12, 49, 85, 10, 75, 87,  5, 23, 27, 92, 18, 88, 97, 53,  7, 96,  6,\n",
       "       57, 70, 61, 51, 37, 24, 73, 84, 72, 86, 51,  8,  9, 19, 16, 97, 30,\n",
       "       91, 11, 58,  0, 46, 35, 12, 50, 89, 89, 21, 70, 87, 66, 69, 14, 72,\n",
       "       38, 29, 30, 82, 74, 13, 44, 95, 40, 14, 14, 77, 77, 65, 84, 33,  7,\n",
       "       10, 64, 95, 61,  7, 15, 16, 88,  1, 33, 25,  3, 71,  8, 73, 95, 46,\n",
       "       11, 44, 66, 23, 25, 36, 33, 44, 23, 58, 34, 42, 79, 40, 57, 86, 30,\n",
       "       16,  8, 22, 53, 24, 74, 63, 84, 47, 70, 52, 29, 78, 34, 55, 78, 61,\n",
       "       44, 94, 52, 42, 54, 41, 67,  9, 82,  6, 91, 38, 74, 84, 60, 49, 71,\n",
       "       24, 21, 48, 50, 22, 58,  4, 22, 35,  5,  7, 92,  3, 31, 27, 18, 19,\n",
       "       11,  8, 57, 75, 15, 73,  3, 71, 16, 57, 77, 48, 14, 30, 15, 63, 95,\n",
       "       42, 76, 97, 53, 57, 92, 69,  4, 14, 62, 35, 88, 19, 95, 77, 60, 42,\n",
       "       97, 75, 88, 20, 45, 55, 92, 89, 63, 22, 34, 79, 78, 13, 19, 43, 83,\n",
       "       14, 97, 87, 76, 93, 65, 47, 34, 28, 48, 25,  0, 57,  1, 25, 13, 33,\n",
       "       87, 66, 83, 95, 80, 36, 75, 39, 33, 14, 71, 55, 46, 32,  1, 55, 71,\n",
       "        8, 41, 15, 41, 31, 35, 73,  2, 65, 25, 43, 75, 10, 53, 46,  4, 65,\n",
       "       12, 41,  9, 79, 75, 73, 69, 95, 66, 80, 13, 90, 12, 61, 95, 43, 10,\n",
       "        9, 60, 33, 61, 24, 71, 92,  7, 85, 29, 53, 25, 46, 64, 86, 37,  3,\n",
       "       46, 28,  5, 52, 42, 16, 54, 27, 78, 79, 16,  3, 98, 39, 17,  4, 63,\n",
       "       83, 25, 55, 93, 25, 90, 76, 71, 39, 66, 42, 73, 69, 40, 64, 34, 30,\n",
       "       21, 84, 40, 59, 74, 66, 43, 62,  0, 99, 91, 69, 24, 13, 85, 91, 35,\n",
       "        1, 60, 55, 44, 87, 65, 20, 98, 44, 97,  6, 46, 52, 30, 75, 73, 93,\n",
       "       61, 16,  9, 59, 94,  5, 44, 89, 54, 30, 58, 65, 34, 80, 68, 25, 91,\n",
       "       95, 33, 13, 35, 34, 69, 60, 94, 88, 93, 53, 11,  5, 79, 65, 85, 89,\n",
       "       59, 31, 40, 15, 36, 28, 99,  7, 73, 42, 55,  6, 57, 54, 92, 22,  3,\n",
       "        1, 74, 16, 30, 19, 65, 25, 67, 63, 91, 41, 60, 90, 88, 48, 86, 95,\n",
       "       46, 68, 54, 90, 82, 67, 10, 97, 55, 11, 90,  7, 13, 46, 20, 57, 79,\n",
       "       96, 61, 64, 78, 72, 89, 13, 16, 20, 39, 95, 92, 52,  5, 52, 57,  1,\n",
       "       69, 25, 13, 50, 66, 99, 93, 21, 65,  4, 53, 93, 57, 40, 40, 78, 70,\n",
       "       98, 95,  9, 68, 48,  9, 21, 31, 82, 34, 74, 36, 71, 82,  9, 97, 47,\n",
       "       73,  0, 47, 94, 37, 79, 15, 76, 23, 94, 48, 21, 48, 28, 64, 75, 85,\n",
       "       70, 47, 67, 49, 71,  6, 16, 38, 14, 89,  3, 96])>"
      ]
     },
     "execution_count": 21,
     "metadata": {},
     "output_type": "execute_result"
    }
   ],
   "source": [
    "neurons_monitor.i"
   ]
  },
  {
   "cell_type": "code",
   "execution_count": 12,
   "metadata": {},
   "outputs": [
    {
     "data": {
      "image/png": "[encoded data removed]",
      "text/plain": [
       "<Figure size 432x288 with 1 Axes>"
      ]
     },
     "metadata": {
      "needs_background": "light"
     },
     "output_type": "display_data"
    }
   ],
   "source": [
    "plt.hist(synapse_stdp.s, density=True)\n",
    "show()"
   ]
  },
  {
   "cell_type": "code",
   "execution_count": 13,
   "metadata": {},
   "outputs": [
    {
     "data": {
      "text/plain": [
       "0.00024564648791624747"
      ]
     },
     "execution_count": 13,
     "metadata": {},
     "output_type": "execute_result"
    }
   ],
   "source": [
    "synapse_stdp.s[k]"
   ]
  },
  {
   "cell_type": "code",
   "execution_count": null,
   "metadata": {},
   "outputs": [],
   "source": []
  }
 ],
 "metadata": {
  "kernelspec": {
   "display_name": "Python 3",
   "language": "python",
   "name": "python3"
  },
  "language_info": {
   "codemirror_mode": {
    "name": "ipython",
    "version": 3
   },
   "file_extension": ".py",
   "mimetype": "text/x-python",
   "name": "python",
   "nbconvert_exporter": "python",
   "pygments_lexer": "ipython3",
   "version": "3.7.0"
  }
 },
 "nbformat": 4,
 "nbformat_minor": 2
}
